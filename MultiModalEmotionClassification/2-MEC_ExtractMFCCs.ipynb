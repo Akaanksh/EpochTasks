{
  "nbformat": 4,
  "nbformat_minor": 0,
  "metadata": {
    "colab": {
      "provenance": []
    },
    "kernelspec": {
      "name": "python3",
      "display_name": "Python 3"
    },
    "language_info": {
      "name": "python"
    }
  },
  "cells": [
    {
      "cell_type": "code",
      "execution_count": null,
      "metadata": {
        "colab": {
          "base_uri": "https://localhost:8080/"
        },
        "id": "Z3UAVXmotYJt",
        "outputId": "294d0127-db1f-49fa-93ca-ba3f622c8264"
      },
      "outputs": [
        {
          "output_type": "stream",
          "name": "stdout",
          "text": [
            "Mounted at /content/drive\n"
          ]
        }
      ],
      "source": [
        "from google.colab import drive\n",
        "import os\n",
        "import json\n",
        "\n",
        "drive.mount('/content/drive')\n",
        "audio_folder = \"/content/drive/MyDrive/multimodal_emotion_recognition/data\""
      ]
    },
    {
      "cell_type": "code",
      "source": [
        "import os\n",
        "import glob\n",
        "import numpy as np\n",
        "import librosa\n",
        "from tqdm import tqdm\n",
        "from google.colab import drive\n",
        "\n",
        "# Set paths\n",
        "mfcc_dir = \"/content/drive/MyDrive/multimodal_emotion_recognition/mfccs\"  # Output directory for MFCCs\n",
        "os.makedirs(mfcc_dir, exist_ok=True)\n",
        "\n",
        "# Emotion label map\n",
        "emotion_map = {\n",
        "    \"01\": \"neutral\",\n",
        "    \"02\": \"calm\",\n",
        "    \"03\": \"happy\",\n",
        "    \"04\": \"sad\",\n",
        "    \"05\": \"angry\",\n",
        "    \"06\": \"fearful\",\n",
        "    \"07\": \"disgust\",\n",
        "    \"08\": \"surprised\"\n",
        "}\n",
        "\n",
        "def parse_emotion(filename):\n",
        "    parts = filename.split(\"-\")\n",
        "    return emotion_map.get(parts[2], \"unknown\")\n",
        "\n",
        "# Get all .wav files recursively\n",
        "audio_files = sorted(glob.glob(os.path.join(audio_folder, '**', '*.wav'), recursive=True))\n",
        "print(f\"Found {len(audio_files)} audio files.\")\n",
        "\n",
        "\n",
        "# Generate and save MFCCs\n",
        "for file in tqdm(audio_files, desc=\"Generating MFCCs\"):\n",
        "    try:\n",
        "        y, sr = librosa.load(file, sr=22050)\n",
        "        mfcc = librosa.feature.mfcc(y=y, sr=sr, n_mfcc=40)\n",
        "\n",
        "        # Normalize length\n",
        "        max_len = 200\n",
        "        if mfcc.shape[1] < max_len:\n",
        "            pad_width = max_len - mfcc.shape[1]\n",
        "            mfcc = np.pad(mfcc, pad_width=((0, 0), (0, pad_width)), mode='constant')\n",
        "        else:\n",
        "            mfcc = mfcc[:, :max_len]\n",
        "\n",
        "        # Save MFCC as .npy\n",
        "        emotion = parse_emotion(os.path.basename(file))\n",
        "        base = os.path.splitext(os.path.basename(file))[0]\n",
        "        out_path = os.path.join(mfcc_dir, f\"{emotion}_{base}.npy\")\n",
        "\n",
        "        np.save(out_path, mfcc)\n",
        "    except Exception as e:\n",
        "        print(f\"Error processing {file}: {e}\")\n"
      ],
      "metadata": {
        "colab": {
          "base_uri": "https://localhost:8080/"
        },
        "id": "nQ72XysntZrf",
        "outputId": "896b09ad-4c62-4410-ce7d-6016921ecc9e"
      },
      "execution_count": null,
      "outputs": [
        {
          "output_type": "stream",
          "name": "stdout",
          "text": [
            "Found 2880 audio files.\n"
          ]
        },
        {
          "output_type": "stream",
          "name": "stderr",
          "text": [
            "Generating MFCCs: 100%|██████████| 2880/2880 [37:24<00:00,  1.28it/s]\n"
          ]
        }
      ]
    }
  ]
}
