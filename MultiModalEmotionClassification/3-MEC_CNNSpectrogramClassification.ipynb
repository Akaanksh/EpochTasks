{
  "nbformat": 4,
  "nbformat_minor": 0,
  "metadata": {
    "colab": {
      "provenance": [],
      "gpuType": "T4"
    },
    "kernelspec": {
      "name": "python3",
      "display_name": "Python 3"
    },
    "language_info": {
      "name": "python"
    },
    "accelerator": "GPU"
  },
  "cells": [
    {
      "cell_type": "markdown",
      "source": [
        "# Prepare Data and the Data Loader"
      ],
      "metadata": {
        "id": "xt4qbTlFT9D3"
      }
    },
    {
      "cell_type": "code",
      "execution_count": 2,
      "metadata": {
        "colab": {
          "base_uri": "https://localhost:8080/"
        },
        "id": "ZFTFVLvHT0Sf",
        "outputId": "cbdcd02d-387e-4c92-f48e-4483d8ac664b"
      },
      "outputs": [
        {
          "output_type": "stream",
          "name": "stdout",
          "text": [
            "Mounted at /content/drive\n"
          ]
        }
      ],
      "source": [
        "import os\n",
        "import glob\n",
        "import torch\n",
        "from torch.utils.data import Dataset, DataLoader\n",
        "from torchvision import transforms\n",
        "from PIL import Image\n",
        "from sklearn.model_selection import train_test_split\n",
        "\n",
        "from google.colab import drive\n",
        "\n",
        "drive.mount('/content/drive')\n",
        "\n",
        "# Set directories\n",
        "spec_dir = \"/content/drive/MyDrive/multimodal_emotion_recognition/spectrograms\"\n",
        "emotion_map = {\n",
        "    \"neutral\": 0,\n",
        "    \"calm\": 1,\n",
        "    \"happy\": 2,\n",
        "    \"sad\": 3,\n",
        "    \"angry\": 4,\n",
        "    \"fearful\": 5,\n",
        "    \"disgust\": 6,\n",
        "    \"surprised\": 7\n",
        "}\n",
        "\n",
        "# Prepare dataset class\n",
        "class SpectrogramDataset(Dataset):\n",
        "    def __init__(self, spec_dir, transform=None):\n",
        "        self.spec_files = sorted(glob.glob(os.path.join(spec_dir, \"*.png\")))\n",
        "        self.transform = transform\n",
        "\n",
        "    def __len__(self):\n",
        "        return len(self.spec_files)\n",
        "\n",
        "    def __getitem__(self, idx):\n",
        "        img_path = self.spec_files[idx]\n",
        "        img = Image.open(img_path).convert('RGB')\n",
        "\n",
        "        # Get the file name, and split it to extract the emotion label\n",
        "        file_name = os.path.basename(img_path)  # Get only the file name, not the full path\n",
        "        label = file_name.split('_')[0]  # Extract emotion\n",
        "\n",
        "        # Map the label to the corresponding number\n",
        "        label = emotion_map[label]  # Use the emotion_map dictionary\n",
        "\n",
        "        if self.transform:\n",
        "            img = self.transform(img)\n",
        "\n",
        "        return img, label\n",
        "\n",
        "# Define transformations for training and validation\n",
        "transform = transforms.Compose([\n",
        "    transforms.Resize((128, 128)),  # Resize to fit model input\n",
        "    transforms.ToTensor(),  # Convert to PyTorch tensor\n",
        "    transforms.Normalize(mean=[0.485, 0.456, 0.406], std=[0.229, 0.224, 0.225])  # Pre-trained normalization\n",
        "])\n",
        "\n",
        "# Split the dataset into train and validation sets\n",
        "dataset = SpectrogramDataset(spec_dir, transform=transform)\n",
        "train_dataset, val_dataset = train_test_split(dataset, test_size=0.2, random_state=42)\n",
        "\n",
        "# DataLoaders for batch processing\n",
        "batch_size = 16\n",
        "train_loader = DataLoader(train_dataset, batch_size=batch_size, shuffle=True)\n",
        "val_loader = DataLoader(val_dataset, batch_size=batch_size, shuffle=False)"
      ]
    },
    {
      "cell_type": "markdown",
      "source": [
        "# Define the CNN Model"
      ],
      "metadata": {
        "id": "wsvbItufUCZK"
      }
    },
    {
      "cell_type": "code",
      "source": [
        "import torch.nn as nn\n",
        "import torch.optim as optim\n",
        "\n",
        "\n",
        "class SpectrogramCNN(nn.Module):\n",
        "    def __init__(self):\n",
        "        super(SpectrogramCNN, self).__init__()\n",
        "\n",
        "        self.conv1 = nn.Conv2d(3, 16, kernel_size=3, padding=1)\n",
        "        self.conv2 = nn.Conv2d(16, 32, kernel_size=3, padding=1)\n",
        "        self.conv3 = nn.Conv2d(32, 64, kernel_size=3, padding=1)\n",
        "\n",
        "        self.pool = nn.MaxPool2d(2, 2)\n",
        "\n",
        "        # Dropout layer\n",
        "        self.dropout = nn.Dropout(p=0.4)\n",
        "\n",
        "        self.fc1 = nn.Linear(64 * 16 * 16, 128)\n",
        "        self.fc2 = nn.Linear(128, 8)  # 8 emotion classes\n",
        "\n",
        "    def forward(self, x):\n",
        "        x = self.pool(nn.ReLU()(self.conv1(x)))\n",
        "        x = self.pool(nn.ReLU()(self.conv2(x)))\n",
        "        x = self.pool(nn.ReLU()(self.conv3(x)))\n",
        "\n",
        "        x = x.view(-1, 64 * 16 * 16)  # Flatten\n",
        "\n",
        "        x = self.dropout(nn.ReLU()(self.fc1(x)))  # FC1 + ReLU + Dropout\n",
        "        x = self.fc2(x)  # Output layer\n",
        "\n",
        "        return x\n"
      ],
      "metadata": {
        "id": "AAClazE3UGoz"
      },
      "execution_count": 3,
      "outputs": []
    },
    {
      "cell_type": "code",
      "source": [
        "# Initialize the model\n",
        "model = SpectrogramCNN()"
      ],
      "metadata": {
        "id": "5DuL56HeZHAo"
      },
      "execution_count": 4,
      "outputs": []
    },
    {
      "cell_type": "markdown",
      "source": [
        "# Train the Model"
      ],
      "metadata": {
        "id": "4XI4Tiu5UHvl"
      }
    },
    {
      "cell_type": "code",
      "source": [
        "# Define loss function and optimizer\n",
        "criterion = nn.CrossEntropyLoss()  # For multi-class classification\n",
        "optimizer = optim.Adam(model.parameters(), lr=1e-4)\n",
        "\n",
        "# Training loop\n",
        "epochs = 100\n",
        "device = torch.device(\"cuda\" if torch.cuda.is_available() else \"cpu\")\n",
        "model.to(device)\n",
        "\n",
        "for epoch in range(epochs):\n",
        "    model.train()  # Set model to training mode\n",
        "    running_loss = 0.0\n",
        "    correct = 0\n",
        "    total = 0\n",
        "\n",
        "    for inputs, labels in train_loader:\n",
        "        inputs, labels = inputs.to(device), labels.to(device)\n",
        "\n",
        "        optimizer.zero_grad()  # Zero the gradients\n",
        "\n",
        "        outputs = model(inputs)  # Forward pass\n",
        "        loss = criterion(outputs, labels)  # Compute loss\n",
        "\n",
        "        loss.backward()  # Backpropagate the loss\n",
        "        optimizer.step()  # Update weights\n",
        "\n",
        "        running_loss += loss.item()\n",
        "\n",
        "        # Accuracy\n",
        "        _, predicted = torch.max(outputs, 1)\n",
        "        total += labels.size(0)\n",
        "        correct += (predicted == labels).sum().item()\n",
        "\n",
        "    # Print stats for this epoch\n",
        "    print(f\"Epoch [{epoch+1}/{epochs}], Loss: {running_loss/len(train_loader):.4f}, Accuracy: {100 * correct / total:.2f}%\")"
      ],
      "metadata": {
        "colab": {
          "base_uri": "https://localhost:8080/"
        },
        "id": "d825b8EbULmJ",
        "outputId": "85b4db25-40ff-4dd3-8fab-3a0cb6ad4f0d"
      },
      "execution_count": 5,
      "outputs": [
        {
          "output_type": "stream",
          "name": "stdout",
          "text": [
            "Epoch [1/100], Loss: 2.0623, Accuracy: 14.84%\n",
            "Epoch [2/100], Loss: 1.9654, Accuracy: 23.26%\n",
            "Epoch [3/100], Loss: 1.7969, Accuracy: 30.56%\n",
            "Epoch [4/100], Loss: 1.6472, Accuracy: 38.98%\n",
            "Epoch [5/100], Loss: 1.5406, Accuracy: 43.84%\n",
            "Epoch [6/100], Loss: 1.4684, Accuracy: 46.79%\n",
            "Epoch [7/100], Loss: 1.3774, Accuracy: 47.40%\n",
            "Epoch [8/100], Loss: 1.3241, Accuracy: 50.00%\n",
            "Epoch [9/100], Loss: 1.2536, Accuracy: 54.60%\n",
            "Epoch [10/100], Loss: 1.1913, Accuracy: 54.95%\n",
            "Epoch [11/100], Loss: 1.1357, Accuracy: 55.64%\n",
            "Epoch [12/100], Loss: 1.1292, Accuracy: 59.46%\n",
            "Epoch [13/100], Loss: 1.0660, Accuracy: 61.28%\n",
            "Epoch [14/100], Loss: 1.0659, Accuracy: 61.81%\n",
            "Epoch [15/100], Loss: 0.9685, Accuracy: 64.32%\n",
            "Epoch [16/100], Loss: 0.9124, Accuracy: 67.45%\n",
            "Epoch [17/100], Loss: 0.9437, Accuracy: 64.58%\n",
            "Epoch [18/100], Loss: 0.8532, Accuracy: 70.31%\n",
            "Epoch [19/100], Loss: 0.7949, Accuracy: 71.18%\n",
            "Epoch [20/100], Loss: 0.8126, Accuracy: 69.88%\n",
            "Epoch [21/100], Loss: 0.7753, Accuracy: 71.18%\n",
            "Epoch [22/100], Loss: 0.7258, Accuracy: 74.22%\n",
            "Epoch [23/100], Loss: 0.7172, Accuracy: 73.70%\n",
            "Epoch [24/100], Loss: 0.6761, Accuracy: 75.35%\n",
            "Epoch [25/100], Loss: 0.6598, Accuracy: 76.30%\n",
            "Epoch [26/100], Loss: 0.6181, Accuracy: 78.39%\n",
            "Epoch [27/100], Loss: 0.6163, Accuracy: 77.60%\n",
            "Epoch [28/100], Loss: 0.5766, Accuracy: 79.17%\n",
            "Epoch [29/100], Loss: 0.5394, Accuracy: 80.99%\n",
            "Epoch [30/100], Loss: 0.5546, Accuracy: 79.17%\n",
            "Epoch [31/100], Loss: 0.5176, Accuracy: 82.38%\n",
            "Epoch [32/100], Loss: 0.4724, Accuracy: 83.77%\n",
            "Epoch [33/100], Loss: 0.4714, Accuracy: 84.38%\n",
            "Epoch [34/100], Loss: 0.4631, Accuracy: 83.42%\n",
            "Epoch [35/100], Loss: 0.4302, Accuracy: 84.64%\n",
            "Epoch [36/100], Loss: 0.4221, Accuracy: 84.98%\n",
            "Epoch [37/100], Loss: 0.3793, Accuracy: 86.72%\n",
            "Epoch [38/100], Loss: 0.3741, Accuracy: 86.20%\n",
            "Epoch [39/100], Loss: 0.3611, Accuracy: 87.76%\n",
            "Epoch [40/100], Loss: 0.3495, Accuracy: 87.85%\n",
            "Epoch [41/100], Loss: 0.3385, Accuracy: 88.63%\n",
            "Epoch [42/100], Loss: 0.3443, Accuracy: 87.59%\n",
            "Epoch [43/100], Loss: 0.3363, Accuracy: 88.72%\n",
            "Epoch [44/100], Loss: 0.2756, Accuracy: 90.89%\n",
            "Epoch [45/100], Loss: 0.3177, Accuracy: 89.76%\n",
            "Epoch [46/100], Loss: 0.2803, Accuracy: 90.19%\n",
            "Epoch [47/100], Loss: 0.2776, Accuracy: 90.45%\n",
            "Epoch [48/100], Loss: 0.2831, Accuracy: 90.28%\n",
            "Epoch [49/100], Loss: 0.2544, Accuracy: 91.06%\n",
            "Epoch [50/100], Loss: 0.2354, Accuracy: 92.27%\n",
            "Epoch [51/100], Loss: 0.2395, Accuracy: 91.15%\n",
            "Epoch [52/100], Loss: 0.2256, Accuracy: 91.84%\n",
            "Epoch [53/100], Loss: 0.2202, Accuracy: 91.84%\n",
            "Epoch [54/100], Loss: 0.2035, Accuracy: 92.27%\n",
            "Epoch [55/100], Loss: 0.2013, Accuracy: 92.88%\n",
            "Epoch [56/100], Loss: 0.2108, Accuracy: 92.36%\n",
            "Epoch [57/100], Loss: 0.2197, Accuracy: 92.19%\n",
            "Epoch [58/100], Loss: 0.2488, Accuracy: 91.32%\n",
            "Epoch [59/100], Loss: 0.1878, Accuracy: 93.32%\n",
            "Epoch [60/100], Loss: 0.1662, Accuracy: 93.75%\n",
            "Epoch [61/100], Loss: 0.1710, Accuracy: 94.88%\n",
            "Epoch [62/100], Loss: 0.1913, Accuracy: 93.14%\n",
            "Epoch [63/100], Loss: 0.1834, Accuracy: 93.32%\n",
            "Epoch [64/100], Loss: 0.1777, Accuracy: 93.40%\n",
            "Epoch [65/100], Loss: 0.2073, Accuracy: 93.49%\n",
            "Epoch [66/100], Loss: 0.1689, Accuracy: 94.01%\n",
            "Epoch [67/100], Loss: 0.1611, Accuracy: 94.97%\n",
            "Epoch [68/100], Loss: 0.1644, Accuracy: 93.84%\n",
            "Epoch [69/100], Loss: 0.1568, Accuracy: 94.79%\n",
            "Epoch [70/100], Loss: 0.1400, Accuracy: 95.66%\n",
            "Epoch [71/100], Loss: 0.1416, Accuracy: 94.88%\n",
            "Epoch [72/100], Loss: 0.1383, Accuracy: 94.88%\n",
            "Epoch [73/100], Loss: 0.1037, Accuracy: 96.18%\n",
            "Epoch [74/100], Loss: 0.1636, Accuracy: 94.01%\n",
            "Epoch [75/100], Loss: 0.1468, Accuracy: 94.70%\n",
            "Epoch [76/100], Loss: 0.1438, Accuracy: 94.79%\n",
            "Epoch [77/100], Loss: 0.1349, Accuracy: 94.97%\n",
            "Epoch [78/100], Loss: 0.1356, Accuracy: 95.40%\n",
            "Epoch [79/100], Loss: 0.1159, Accuracy: 96.09%\n",
            "Epoch [80/100], Loss: 0.1175, Accuracy: 96.09%\n",
            "Epoch [81/100], Loss: 0.1185, Accuracy: 96.01%\n",
            "Epoch [82/100], Loss: 0.1201, Accuracy: 96.18%\n",
            "Epoch [83/100], Loss: 0.1215, Accuracy: 95.40%\n",
            "Epoch [84/100], Loss: 0.1242, Accuracy: 95.40%\n",
            "Epoch [85/100], Loss: 0.1275, Accuracy: 95.83%\n",
            "Epoch [86/100], Loss: 0.1452, Accuracy: 94.18%\n",
            "Epoch [87/100], Loss: 0.1335, Accuracy: 95.49%\n",
            "Epoch [88/100], Loss: 0.0997, Accuracy: 96.44%\n",
            "Epoch [89/100], Loss: 0.1144, Accuracy: 95.92%\n",
            "Epoch [90/100], Loss: 0.1234, Accuracy: 95.05%\n",
            "Epoch [91/100], Loss: 0.1070, Accuracy: 96.35%\n",
            "Epoch [92/100], Loss: 0.1268, Accuracy: 95.14%\n",
            "Epoch [93/100], Loss: 0.1114, Accuracy: 95.92%\n",
            "Epoch [94/100], Loss: 0.0857, Accuracy: 96.96%\n",
            "Epoch [95/100], Loss: 0.0860, Accuracy: 96.79%\n",
            "Epoch [96/100], Loss: 0.0890, Accuracy: 96.96%\n",
            "Epoch [97/100], Loss: 0.1044, Accuracy: 96.61%\n",
            "Epoch [98/100], Loss: 0.1082, Accuracy: 95.57%\n",
            "Epoch [99/100], Loss: 0.0791, Accuracy: 97.31%\n",
            "Epoch [100/100], Loss: 0.1139, Accuracy: 96.01%\n"
          ]
        }
      ]
    },
    {
      "cell_type": "markdown",
      "source": [
        "# Validate the Model"
      ],
      "metadata": {
        "id": "KAWu8MnGUM_n"
      }
    },
    {
      "cell_type": "code",
      "source": [
        "# Evaluation loop\n",
        "model.eval()  # Set model to evaluation mode\n",
        "val_correct = 0\n",
        "val_total = 0\n",
        "\n",
        "with torch.no_grad():  # No gradients needed for validation\n",
        "    for inputs, labels in val_loader:\n",
        "        inputs, labels = inputs.to(device), labels.to(device)\n",
        "\n",
        "        outputs = model(inputs)  # Forward pass\n",
        "        _, predicted = torch.max(outputs, 1)\n",
        "\n",
        "        val_total += labels.size(0)\n",
        "        val_correct += (predicted == labels).sum().item()\n",
        "\n",
        "# Print accuracy for validation\n",
        "print(f\"Validation Accuracy: {100 * val_correct / val_total:.2f}%\")"
      ],
      "metadata": {
        "colab": {
          "base_uri": "https://localhost:8080/"
        },
        "id": "CFQu7hgWUQIY",
        "outputId": "5c219bd1-d44e-4e70-ae6e-21a06f62160d"
      },
      "execution_count": 6,
      "outputs": [
        {
          "output_type": "stream",
          "name": "stdout",
          "text": [
            "Validation Accuracy: 75.00%\n"
          ]
        }
      ]
    },
    {
      "cell_type": "markdown",
      "source": [
        "# Using a Pre-Trained ResNet"
      ],
      "metadata": {
        "id": "s1tDeIbxesgB"
      }
    },
    {
      "cell_type": "markdown",
      "source": [
        "## Defining the ResNet"
      ],
      "metadata": {
        "id": "kF2wXuJYfkrW"
      }
    },
    {
      "cell_type": "code",
      "source": [
        "import torch\n",
        "import torch.nn as nn\n",
        "from torchvision import models\n",
        "\n",
        "class ResNetEmotionClassifier(nn.Module):\n",
        "    def __init__(self, num_classes=8):\n",
        "        super(ResNetEmotionClassifier, self).__init__()\n",
        "\n",
        "        # Load pretrained ResNet18\n",
        "        self.base_model = models.resnet18(pretrained=True)\n",
        "\n",
        "        in_features = self.base_model.fc.in_features\n",
        "        self.base_model.fc = nn.Sequential(\n",
        "            nn.Dropout(0.5),\n",
        "            nn.Linear(in_features, num_classes)\n",
        "        )\n",
        "\n",
        "    def forward(self, x):\n",
        "        return self.base_model(x)\n"
      ],
      "metadata": {
        "id": "4sQYB_SQewUD"
      },
      "execution_count": 7,
      "outputs": []
    },
    {
      "cell_type": "code",
      "source": [
        "model = ResNetEmotionClassifier(num_classes=8)\n",
        "\n",
        "optimizer = torch.optim.Adam(model.parameters(), lr=1e-4, weight_decay=1e-5)"
      ],
      "metadata": {
        "colab": {
          "base_uri": "https://localhost:8080/"
        },
        "id": "2IjGSm8Ve8Z6",
        "outputId": "32aebb6a-753e-4b46-a1c2-eb47c6728d06"
      },
      "execution_count": 8,
      "outputs": [
        {
          "output_type": "stream",
          "name": "stderr",
          "text": [
            "/usr/local/lib/python3.11/dist-packages/torchvision/models/_utils.py:208: UserWarning: The parameter 'pretrained' is deprecated since 0.13 and may be removed in the future, please use 'weights' instead.\n",
            "  warnings.warn(\n",
            "/usr/local/lib/python3.11/dist-packages/torchvision/models/_utils.py:223: UserWarning: Arguments other than a weight enum or `None` for 'weights' are deprecated since 0.13 and may be removed in the future. The current behavior is equivalent to passing `weights=ResNet18_Weights.IMAGENET1K_V1`. You can also use `weights=ResNet18_Weights.DEFAULT` to get the most up-to-date weights.\n",
            "  warnings.warn(msg)\n",
            "Downloading: \"https://download.pytorch.org/models/resnet18-f37072fd.pth\" to /root/.cache/torch/hub/checkpoints/resnet18-f37072fd.pth\n",
            "100%|██████████| 44.7M/44.7M [00:00<00:00, 180MB/s]\n"
          ]
        }
      ]
    },
    {
      "cell_type": "markdown",
      "source": [
        "## Modifying Data for the ResNet"
      ],
      "metadata": {
        "id": "E59VDjtbfob-"
      }
    },
    {
      "cell_type": "code",
      "source": [
        "from torchvision import transforms\n",
        "\n",
        "transform = transforms.Compose([\n",
        "    transforms.Resize((224, 224)),  # Resize spectrograms to 224x224\n",
        "    transforms.ToTensor(),\n",
        "    transforms.Normalize(mean=[0.485, 0.456, 0.406],   # ImageNet means\n",
        "                         std=[0.229, 0.224, 0.225])    # ImageNet stds\n",
        "])\n"
      ],
      "metadata": {
        "id": "0obkCjSXfNQv"
      },
      "execution_count": 9,
      "outputs": []
    },
    {
      "cell_type": "code",
      "source": [
        "from torch.utils.data import Dataset\n",
        "from PIL import Image\n",
        "import os\n",
        "\n",
        "class SpectrogramDataset(Dataset):\n",
        "    def __init__(self, image_dir, transform=None):\n",
        "        self.image_dir = image_dir\n",
        "        self.transform = transform\n",
        "        self.image_paths = [os.path.join(image_dir, fname)\n",
        "                            for fname in os.listdir(image_dir) if fname.endswith(\".png\")]\n",
        "\n",
        "        self.emotion_map = {\n",
        "            'neutral': 0, 'calm': 1, 'happy': 2, 'sad': 3,\n",
        "            'angry': 4, 'fearful': 5, 'disgust': 6, 'surprised': 7\n",
        "        }\n",
        "\n",
        "    def __len__(self):\n",
        "        return len(self.image_paths)\n",
        "\n",
        "    def __getitem__(self, idx):\n",
        "        img_path = self.image_paths[idx]\n",
        "        image = Image.open(img_path).convert(\"RGB\")  # Ensure 3-channel input\n",
        "\n",
        "        label_str = os.path.basename(img_path).split('_')[0]\n",
        "        label = self.emotion_map[label_str]\n",
        "\n",
        "        if self.transform:\n",
        "            image = self.transform(image)\n",
        "\n",
        "        return image, label\n"
      ],
      "metadata": {
        "id": "ijSBdtOzfQhF"
      },
      "execution_count": 10,
      "outputs": []
    },
    {
      "cell_type": "markdown",
      "source": [
        "## Setting up Data Loader"
      ],
      "metadata": {
        "id": "bI8pmpDrgJD4"
      }
    },
    {
      "cell_type": "code",
      "source": [
        "from torch.utils.data import DataLoader\n",
        "from sklearn.model_selection import train_test_split\n",
        "\n",
        "from google.colab import drive\n",
        "drive.mount('/content/drive')\n",
        "\n",
        "dataset = SpectrogramDataset(image_dir='/content/drive/MyDrive/multimodal_emotion_recognition/spectrograms', transform=transform)\n",
        "\n",
        "train_indices, val_indices = train_test_split(list(range(len(dataset))), test_size=0.2, random_state=42)\n",
        "train_dataset = torch.utils.data.Subset(dataset, train_indices)\n",
        "val_dataset = torch.utils.data.Subset(dataset, val_indices)\n",
        "\n",
        "train_loader = DataLoader(train_dataset, batch_size=32, shuffle=True)\n",
        "val_loader = DataLoader(val_dataset, batch_size=32, shuffle=False)\n"
      ],
      "metadata": {
        "colab": {
          "base_uri": "https://localhost:8080/"
        },
        "id": "ddCjnvomfVOn",
        "outputId": "930f3afc-ae72-4587-f8ac-e6df7f767be4"
      },
      "execution_count": 11,
      "outputs": [
        {
          "output_type": "stream",
          "name": "stdout",
          "text": [
            "Drive already mounted at /content/drive; to attempt to forcibly remount, call drive.mount(\"/content/drive\", force_remount=True).\n"
          ]
        }
      ]
    },
    {
      "cell_type": "markdown",
      "source": [
        "## Training the ResNet"
      ],
      "metadata": {
        "id": "OsOV0r0igLY0"
      }
    },
    {
      "cell_type": "code",
      "source": [
        "import torch\n",
        "import torch.nn as nn\n",
        "\n",
        "device = torch.device(\"cuda\" if torch.cuda.is_available() else \"cpu\")\n",
        "model = ResNetEmotionClassifier(num_classes=8).to(device)\n",
        "\n",
        "criterion = nn.CrossEntropyLoss()\n",
        "optimizer = torch.optim.Adam(model.parameters(), lr=1e-4, weight_decay=1e-5)\n",
        "\n",
        "\n",
        "def train_model(model, train_loader, val_loader, criterion, optimizer, num_epochs=10):\n",
        "    for epoch in range(num_epochs):\n",
        "        model.train()\n",
        "        train_loss, train_correct = 0.0, 0\n",
        "\n",
        "        for images, labels in train_loader:\n",
        "            images, labels = images.to(device), labels.to(device)\n",
        "\n",
        "            optimizer.zero_grad()\n",
        "            outputs = model(images)\n",
        "            loss = criterion(outputs, labels)\n",
        "            loss.backward()\n",
        "            optimizer.step()\n",
        "\n",
        "            train_loss += loss.item() * images.size(0)\n",
        "            _, preds = torch.max(outputs, 1)\n",
        "            train_correct += (preds == labels).sum().item()\n",
        "\n",
        "        val_loss, val_correct = 0.0, 0\n",
        "        model.eval()\n",
        "        with torch.no_grad():\n",
        "            for images, labels in val_loader:\n",
        "                images, labels = images.to(device), labels.to(device)\n",
        "                outputs = model(images)\n",
        "                loss = criterion(outputs, labels)\n",
        "\n",
        "                val_loss += loss.item() * images.size(0)\n",
        "                _, preds = torch.max(outputs, 1)\n",
        "                val_correct += (preds == labels).sum().item()\n",
        "\n",
        "        # Epoch Summary\n",
        "        train_acc = train_correct / len(train_loader.dataset)\n",
        "        val_acc = val_correct / len(val_loader.dataset)\n",
        "        print(f\"Epoch {epoch+1}/{num_epochs}: \"\n",
        "              f\"Train Loss: {train_loss:.4f}, Acc: {train_acc:.4f} | \"\n",
        "              f\"Val Loss: {val_loss:.4f}, Acc: {val_acc:.4f}\")"
      ],
      "metadata": {
        "id": "7QherOAUgNkZ"
      },
      "execution_count": 12,
      "outputs": []
    },
    {
      "cell_type": "code",
      "source": [
        "train_model(model, train_loader, val_loader, criterion, optimizer, num_epochs=20)"
      ],
      "metadata": {
        "colab": {
          "base_uri": "https://localhost:8080/"
        },
        "id": "2MeqBk86gTBG",
        "outputId": "0bb521de-c730-4fd0-89b7-f69e6aa9bd22"
      },
      "execution_count": 13,
      "outputs": [
        {
          "output_type": "stream",
          "name": "stdout",
          "text": [
            "Epoch 1/20: Train Loss: 1997.6796, Acc: 0.3507 | Val Loss: 378.7998, Acc: 0.5660\n",
            "Epoch 2/20: Train Loss: 1034.4657, Acc: 0.7066 | Val Loss: 288.1685, Acc: 0.6354\n",
            "Epoch 3/20: Train Loss: 460.3545, Acc: 0.9141 | Val Loss: 244.0325, Acc: 0.7083\n",
            "Epoch 4/20: Train Loss: 169.7251, Acc: 0.9861 | Val Loss: 236.2055, Acc: 0.6979\n",
            "Epoch 5/20: Train Loss: 77.3463, Acc: 0.9974 | Val Loss: 228.2406, Acc: 0.7188\n",
            "Epoch 6/20: Train Loss: 46.9799, Acc: 0.9974 | Val Loss: 227.0181, Acc: 0.7257\n",
            "Epoch 7/20: Train Loss: 28.5324, Acc: 1.0000 | Val Loss: 220.9486, Acc: 0.7396\n",
            "Epoch 8/20: Train Loss: 17.1158, Acc: 1.0000 | Val Loss: 215.0876, Acc: 0.7431\n",
            "Epoch 9/20: Train Loss: 14.9466, Acc: 1.0000 | Val Loss: 217.0663, Acc: 0.7326\n",
            "Epoch 10/20: Train Loss: 11.8617, Acc: 1.0000 | Val Loss: 223.5200, Acc: 0.7326\n",
            "Epoch 11/20: Train Loss: 12.4491, Acc: 1.0000 | Val Loss: 232.1200, Acc: 0.7292\n",
            "Epoch 12/20: Train Loss: 10.9495, Acc: 1.0000 | Val Loss: 220.5418, Acc: 0.7396\n",
            "Epoch 13/20: Train Loss: 8.3951, Acc: 1.0000 | Val Loss: 229.3815, Acc: 0.7396\n",
            "Epoch 14/20: Train Loss: 8.4429, Acc: 1.0000 | Val Loss: 229.5353, Acc: 0.7326\n",
            "Epoch 15/20: Train Loss: 7.1729, Acc: 1.0000 | Val Loss: 230.8373, Acc: 0.7569\n",
            "Epoch 16/20: Train Loss: 5.3116, Acc: 1.0000 | Val Loss: 224.2848, Acc: 0.7465\n",
            "Epoch 17/20: Train Loss: 4.2558, Acc: 1.0000 | Val Loss: 225.8233, Acc: 0.7396\n",
            "Epoch 18/20: Train Loss: 4.4510, Acc: 1.0000 | Val Loss: 227.3714, Acc: 0.7326\n",
            "Epoch 19/20: Train Loss: 4.8612, Acc: 1.0000 | Val Loss: 230.2374, Acc: 0.7431\n",
            "Epoch 20/20: Train Loss: 3.7430, Acc: 1.0000 | Val Loss: 233.7559, Acc: 0.7396\n"
          ]
        }
      ]
    },
    {
      "cell_type": "markdown",
      "source": [
        "## Evaluate Model"
      ],
      "metadata": {
        "id": "sHSMlP4Hghy4"
      }
    },
    {
      "cell_type": "code",
      "source": [
        "from sklearn.metrics import classification_report, confusion_matrix\n",
        "import seaborn as sns\n",
        "import matplotlib.pyplot as plt\n",
        "import numpy as np\n",
        "\n",
        "def evaluate_model(model, val_loader, class_names):\n",
        "    model.eval()\n",
        "    all_preds = []\n",
        "    all_labels = []\n",
        "\n",
        "    with torch.no_grad():\n",
        "        for images, labels in val_loader:\n",
        "            images = images.to(device)\n",
        "            labels = labels.to(device)\n",
        "\n",
        "            outputs = model(images)\n",
        "            _, preds = torch.max(outputs, 1)\n",
        "\n",
        "            all_preds.extend(preds.cpu().numpy())\n",
        "            all_labels.extend(labels.cpu().numpy())\n",
        "\n",
        "    # Classification Report\n",
        "    print(\"Classification Report:\\n\")\n",
        "    print(classification_report(all_labels, all_preds, target_names=class_names))\n",
        "\n",
        "    # Confusion Matrix\n",
        "    cm = confusion_matrix(all_labels, all_preds)\n",
        "    plt.figure(figsize=(8, 6))\n",
        "    sns.heatmap(cm, annot=True, fmt=\"d\", cmap=\"Blues\",\n",
        "                xticklabels=class_names, yticklabels=class_names)\n",
        "    plt.xlabel(\"Predicted Label\")\n",
        "    plt.ylabel(\"True Label\")\n",
        "    plt.title(\"Confusion Matrix\")\n",
        "    plt.show()\n",
        "\n",
        "class_names = ['neutral', 'calm', 'happy', 'sad', 'angry', 'fearful', 'disgust', 'surprised']\n",
        "\n",
        "evaluate_model(model, val_loader, class_names)\n"
      ],
      "metadata": {
        "colab": {
          "base_uri": "https://localhost:8080/",
          "height": 859
        },
        "id": "fhuNCAppghVd",
        "outputId": "348e580f-5c8f-4a58-b83c-9b263ea0379b"
      },
      "execution_count": 14,
      "outputs": [
        {
          "output_type": "stream",
          "name": "stdout",
          "text": [
            "Classification Report:\n",
            "\n",
            "              precision    recall  f1-score   support\n",
            "\n",
            "     neutral       0.44      0.86      0.59        14\n",
            "        calm       0.80      0.85      0.82        33\n",
            "       happy       0.65      0.65      0.65        48\n",
            "         sad       0.69      0.48      0.56        42\n",
            "       angry       0.81      0.79      0.80        38\n",
            "     fearful       0.73      0.82      0.77        39\n",
            "     disgust       0.82      0.77      0.79        35\n",
            "   surprised       0.94      0.85      0.89        39\n",
            "\n",
            "    accuracy                           0.74       288\n",
            "   macro avg       0.73      0.76      0.73       288\n",
            "weighted avg       0.75      0.74      0.74       288\n",
            "\n"
          ]
        },
        {
          "output_type": "display_data",
          "data": {
            "text/plain": [
              "<Figure size 800x600 with 2 Axes>"
            ],
            "image/png": "[encoded data removed]"
          },
          "metadata": {}
        }
      ]
    }
  ]
}
