{
  "nbformat": 4,
  "nbformat_minor": 0,
  "metadata": {
    "colab": {
      "provenance": []
    },
    "kernelspec": {
      "name": "python3",
      "display_name": "Python 3"
    },
    "language_info": {
      "name": "python"
    }
  },
  "cells": [
    {
      "cell_type": "markdown",
      "source": [
        "# KNN Implementation"
      ],
      "metadata": {
        "id": "F-bGXzyfE37a"
      }
    },
    {
      "cell_type": "code",
      "execution_count": 94,
      "metadata": {
        "id": "kyOG49htGOCn"
      },
      "outputs": [],
      "source": [
        "import numpy as np\n",
        "import matplotlib.pyplot as plt"
      ]
    },
    {
      "cell_type": "markdown",
      "source": [
        "## Data Pre-Processing"
      ],
      "metadata": {
        "id": "Jj-nyWy93BQy"
      }
    },
    {
      "cell_type": "markdown",
      "source": [
        "### Get data"
      ],
      "metadata": {
        "id": "zQayfKOz3iGN"
      }
    },
    {
      "cell_type": "code",
      "source": [
        "data=np.array( [\n",
        "    [150, 7.0, 1, 'Apple'],\n",
        "    [120, 6.5, 0, 'Banana'],\n",
        "    [180, 7.5, 2, 'Orange'],\n",
        "    [155, 7.2, 1, 'Apple'],\n",
        "    [110, 6.0, 0, 'Banana'],\n",
        "    [190, 7.8, 2, 'Orange'],\n",
        "    [145, 7.1, 1, 'Apple'],\n",
        "    [115, 6.3, 0, 'Banana']\n",
        "]\n",
        ")"
      ],
      "metadata": {
        "id": "e3Epve7qIV7n"
      },
      "execution_count": 95,
      "outputs": []
    },
    {
      "cell_type": "markdown",
      "source": [
        "### Encode data"
      ],
      "metadata": {
        "id": "Tf6VdNc-3mP4"
      }
    },
    {
      "cell_type": "code",
      "source": [
        "# get unique class labels\n",
        "classes = np.unique(data[:,-1])\n",
        "\n",
        "# Assign a numerical value to each class label\n",
        "for i in range(data.shape[0]):\n",
        "    data[i][3] = np.where(classes==data[i][3])[0][0]"
      ],
      "metadata": {
        "id": "QgxDCJNd3p1z"
      },
      "execution_count": 96,
      "outputs": []
    },
    {
      "cell_type": "markdown",
      "source": [
        "### Split data"
      ],
      "metadata": {
        "id": "iVGpf4L33q7o"
      }
    },
    {
      "cell_type": "code",
      "source": [
        "# Split features and labels\n",
        "X_train = np.array(data[:, :-1], dtype=float)\n",
        "y_train = np.array(data[:, -1], dtype=int)"
      ],
      "metadata": {
        "id": "2MVEaoqQKe-u"
      },
      "execution_count": 97,
      "outputs": []
    },
    {
      "cell_type": "markdown",
      "source": [
        "### Normalization methods"
      ],
      "metadata": {
        "id": "aHmUqgw93vBz"
      }
    },
    {
      "cell_type": "code",
      "source": [
        "def minMaxNormalization(X_train):\n",
        "    for col in range(X_train.shape[1]):\n",
        "        min_val = np.min(X_train[:, col])\n",
        "        max_val = np.max(X_train[:, col])\n",
        "        X_train[:, col] = (X_train[:, col] - min_val) / (max_val - min_val)\n",
        "    return X_train\n",
        "\n",
        "def zScoreNormalization(X_train):\n",
        "    for col in range(X_train.shape[1]):\n",
        "        mn = np.mean(X_train[:, col])\n",
        "        std = np.std(X_train[:, col])\n",
        "        X_train[:, col] = (X_train[:, col] - mn) / std\n",
        "    return X_train\n",
        "\n",
        "# Applying Z-score normalization on the training data\n",
        "X_train = zScoreNormalization(X_train)"
      ],
      "metadata": {
        "id": "cW7UyT6qFxYg"
      },
      "execution_count": 98,
      "outputs": []
    },
    {
      "cell_type": "markdown",
      "source": [
        "## Different Distance Functions"
      ],
      "metadata": {
        "id": "CWd7s8SB357r"
      }
    },
    {
      "cell_type": "code",
      "source": [
        "def eucDist(a,b):\n",
        "    return np.sqrt(np.sum((a-b)**2))"
      ],
      "metadata": {
        "id": "ytUzeWUPLaJN"
      },
      "execution_count": 99,
      "outputs": []
    },
    {
      "cell_type": "code",
      "source": [
        "def manhattanDist(a,b):\n",
        "    return np.sum(np.abs(a-b))"
      ],
      "metadata": {
        "id": "7J2I_qwPCX2X"
      },
      "execution_count": 100,
      "outputs": []
    },
    {
      "cell_type": "code",
      "source": [
        "def minkowskiDist(a,b,p=2):\n",
        "    return (np.sum(np.abs(a-b)**p))**(1/p)"
      ],
      "metadata": {
        "id": "SFmkAKKtChGw"
      },
      "execution_count": 101,
      "outputs": []
    },
    {
      "cell_type": "markdown",
      "source": [
        "## KNN and Weighted KNN Implementation"
      ],
      "metadata": {
        "id": "w7OVtGI34HrA"
      }
    },
    {
      "cell_type": "code",
      "source": [
        "class KNN():\n",
        "    def __init__(self, k=3):\n",
        "        self.k=k  # number of neighbors to consider\n",
        "\n",
        "    def fit(self, X_train, y_train):\n",
        "        self.X_train = X_train\n",
        "        self.y_train = y_train\n",
        "\n",
        "    def predict_one(self, x, distFunction):\n",
        "        distances = [distFunction(x,j) for j in self.X_train]  # calc distance from test point to every train point\n",
        "        kNearestIndices = np.argsort(distances)[:self.k]       # indices of the k smallest distances\n",
        "        arrOfkLabels = np.array([self.y_train[l] for l in kNearestIndices])  # get the labels of those k points\n",
        "        freq = np.zeros(len(classes)) # to count how many neighbors belong to each class\n",
        "        for k in arrOfkLabels:\n",
        "           freq[k] += 1\n",
        "        return np.argmax(freq)  # return the class with the most votes\n",
        "\n",
        "    def predict(self, X_test, distFunction):\n",
        "        # predict the label for each test point\n",
        "        y_pred = [self.predict_one(X_test[i], distFunction) for i in range(len(X_test))]\n",
        "        return np.array(y_pred)"
      ],
      "metadata": {
        "id": "2zV5tbskMidE"
      },
      "execution_count": 102,
      "outputs": []
    },
    {
      "cell_type": "code",
      "source": [
        "class weightedKNN(KNN):\n",
        "    def predict_one(self, x, distFunction):\n",
        "        distances = [distFunction(x,j) for j in self.X_train]  # same as before, calculate all distances\n",
        "        kNearestIndices = np.argsort(distances)[:self.k]       # indices of k nearest neighbors\n",
        "        kNearestDistances = np.array([distances[l] for l in kNearestIndices])\n",
        "        arrOfkLabels = np.array([self.y_train[l] for l in kNearestIndices])\n",
        "        totalWeight = np.zeros(len(classes))  # weight accumulators for each class\n",
        "        for k in range(len(arrOfkLabels)):\n",
        "            totalWeight[arrOfkLabels[k]] += 1/(kNearestDistances[k])  # smaller distance -> higher weight\n",
        "        return np.argmax(totalWeight)  # return class with highest total weight"
      ],
      "metadata": {
        "id": "jF_JZdN2J56Q"
      },
      "execution_count": 103,
      "outputs": []
    },
    {
      "cell_type": "markdown",
      "source": [
        "## Making Predictions"
      ],
      "metadata": {
        "id": "qFJmY0ej411T"
      }
    },
    {
      "cell_type": "code",
      "source": [
        "# Initialize model and train on data\n",
        "knn = weightedKNN()\n",
        "knn.fit(X_train, y_train)"
      ],
      "metadata": {
        "id": "Rojq6Wn6d6vx"
      },
      "execution_count": 104,
      "outputs": []
    },
    {
      "cell_type": "code",
      "source": [
        "test_data = np.array([\n",
        "    [118, 6.2, 0],  # Expected: Banana\n",
        "    [160, 7.3, 1],  # Expected: Apple\n",
        "    [185, 7.7, 2]   # Expected: Orange\n",
        "])\n",
        "\n",
        "# normalize test data same way we did for training\n",
        "# ideally, should use same mean/std from training set in real scenarios but for simplicity, just applying z-score again here\n",
        "\n",
        "test_data = zScoreNormalization(test_data)"
      ],
      "metadata": {
        "id": "597QbGVReIaP"
      },
      "execution_count": 105,
      "outputs": []
    },
    {
      "cell_type": "code",
      "source": [
        "preds = knn.predict(test_data, eucDist)\n",
        "predLabels = np.array([classes[i] for i in preds]) # convert numeric labels back to fruit names\n",
        "\n",
        "print(predLabels)"
      ],
      "metadata": {
        "colab": {
          "base_uri": "https://localhost:8080/"
        },
        "id": "DXkIn-jleSZx",
        "outputId": "700ff5a4-751a-40c8-e392-6300a9b69f9f"
      },
      "execution_count": 106,
      "outputs": [
        {
          "output_type": "stream",
          "name": "stdout",
          "text": [
            "['Banana' 'Apple' 'Orange']\n"
          ]
        }
      ]
    },
    {
      "cell_type": "markdown",
      "source": [
        "## Accuracy Checker"
      ],
      "metadata": {
        "id": "hw4m93fC5SoZ"
      }
    },
    {
      "cell_type": "code",
      "source": [
        "trueLabels = ['Banana', 'Apple', 'Orange']\n",
        "\n",
        "def accuracyChecker(trueLabels, predLabels):\n",
        "    count = 0\n",
        "    for i in range(len(trueLabels)):\n",
        "        if trueLabels[i] == predLabels[i]:\n",
        "            count += 1\n",
        "    return count/len(trueLabels) # returns accuracy as fraction of correct predictions\n",
        "\n",
        "print(accuracyChecker(trueLabels, predLabels))"
      ],
      "metadata": {
        "colab": {
          "base_uri": "https://localhost:8080/"
        },
        "id": "J_G7LErAo0sM",
        "outputId": "ac8ebf9a-6435-4e5a-ca20-1213d5c9f94b"
      },
      "execution_count": 107,
      "outputs": [
        {
          "output_type": "stream",
          "name": "stdout",
          "text": [
            "1.0\n"
          ]
        }
      ]
    },
    {
      "cell_type": "markdown",
      "source": [
        "## Decision Boundary Plot\n",
        "2D visualisation using any two features (demonstrated with weight and size here)"
      ],
      "metadata": {
        "id": "zlEU1tc-5eIU"
      }
    },
    {
      "cell_type": "code",
      "source": [
        "def plot_decision_boundary(knn, X, y, fixed_color=0, resolution=100):\n",
        "    # setting range for the grid\n",
        "    x_min, x_max = X[:, 0].min() - 3, X[:, 0].max() + 3\n",
        "    y_min, y_max = X[:, 1].min() - 0.5, X[:, 1].max() + 0.5\n",
        "\n",
        "    # generate a mesh grid of points across the feature space\n",
        "    xx, yy = np.meshgrid(np.linspace(x_min, x_max, resolution),\n",
        "                         np.linspace(y_min, y_max, resolution))\n",
        "\n",
        "    grid_points = np.c_[xx.ravel(), yy.ravel()]  # flatten grid into coordinate pairs\n",
        "    grid_points = np.insert(grid_points, 2, fixed_color, axis=1)  # insert fixed color feature\n",
        "\n",
        "    # predict class of each point in the grid\n",
        "    Z = knn.predict(grid_points, eucDist)\n",
        "    Z = Z.reshape(xx.shape)  # reshape back to 2D\n",
        "\n",
        "    # plot the regions and training points\n",
        "    plt.figure(figsize=(10, 6))\n",
        "    plt.contourf(xx, yy, Z, alpha=0.4, cmap='Pastel1')\n",
        "\n",
        "    scatter = plt.scatter(X[:, 0], X[:, 1], c=y, cmap='Set1', edgecolor='k', s=100)\n",
        "    plt.xlabel(\"Weight (g)\")\n",
        "    plt.ylabel(\"Size (cm)\")\n",
        "    plt.title(\"KNN Decision Boundary\")\n",
        "    plt.legend(handles=scatter.legend_elements()[0], labels=['Apple', 'Banana', 'Orange'])\n",
        "    plt.grid(True)\n",
        "    plt.show()\n",
        "\n",
        "# visualize decision boundary with color index = 0 (basically assuming we're comparing Banana region)\n",
        "plot_decision_boundary(knn, X_train, y_train, fixed_color=0)"
      ],
      "metadata": {
        "colab": {
          "base_uri": "https://localhost:8080/",
          "height": 564
        },
        "id": "SdyyEiKaMfw8",
        "outputId": "2e7d3d22-b7ca-4f33-c7a6-40a60ebd64cd"
      },
      "execution_count": 108,
      "outputs": [
        {
          "output_type": "display_data",
          "data": {
            "text/plain": [
              "<Figure size 1000x600 with 1 Axes>"
            ],
            "image/png": "[encoded data removed]"
          },
          "metadata": {}
        }
      ]
    }
  ]
}